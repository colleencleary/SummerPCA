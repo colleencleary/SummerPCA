{
 "cells": [
  {
   "cell_type": "code",
   "execution_count": 5,
   "metadata": {
    "collapsed": false
   },
   "outputs": [
    {
     "data": {
      "text/plain": [
       "159"
      ]
     },
     "execution_count": 5,
     "metadata": {},
     "output_type": "execute_result"
    }
   ],
   "source": [
    "%matplotlib inline\n",
    "'''This code loads the Fillipazo and Photometry tables and plots data after running a principle component analysis'''\n",
    "import numpy as np\n",
    "import pandas as pd\n",
    "import matplotlib.pyplot as plt\n",
    "from PCA_adjustColumns import adjustFili, adjustPhoto\n",
    "from PCA_merge import merge\n",
    "from PCA_calc import distance, dm\n",
    "#from PCA_index import index\n",
    "from PCA_remName import remName\n",
    "from PCA_impute import impute\n",
    "from PCA_scale import scale\n",
    "from PCA import perform\n",
    "from PCA_plot import plot_PCA\n",
    "from PCA_vectors import vectors\n",
    "from PCA_color import colorColumns\n",
    "\n",
    "#load Fili Table\n",
    "fili = pd.read_csv('Fili15 Table9.csv', delimiter=',')\n",
    "#load Photometry Table\n",
    "photo = pd.read_csv('photometry_198.csv', delimiter=',')\n",
    "\n",
    "#adjust tables \n",
    "newfili=adjustFili(fili)\n",
    "newphoto=adjustPhoto(photo)\n",
    "\n",
    "#merge tables into one table without duplicate columns\n",
    "fiPh=merge(newfili, newphoto)\n",
    "\n",
    "#calculate distance\n",
    "distance=distance(fiPh)\n",
    "\n",
    "#return table with distance modulus accounted for  \n",
    "dm=dm(distance)\n",
    "\n",
    "newcolumns=newphoto.columns.tolist()\n",
    "for elem in newcolumns:\n",
    "    if elem=='shortname':\n",
    "        continue\n",
    "    fiPh[elem]=fiPh[elem]-dm\n",
    "\n",
    "#remove shortname and age columns\n",
    "newfiPh=remName(fiPh)\n",
    "\n",
    "#create color columns\n",
    "BDdict = {'J' : 1.24, 'H' : 1.66, 'K' : 2.19, 'Ks' : 2.16, 'W1' : 3.35, 'W2' : 4.6, 'W3' : 11.56, 'W4' : 22.09, '[3.6]' : 3.51, '[4.5]' : 4.44, '[5.8]' : 5.63, '[8]' : 7.59, 'g' : .48, 'i' : .76, 'r' : .62, 'u' : .35, 'z' : .91 }\n",
    "newfiPh=colorColumns(newfiPh, BDdict)\n",
    "\n",
    "#impute data\n",
    "data_imputed=impute(newfiPh)\n",
    "\n",
    "#scale data\n",
    "data_scaled=scale(data_imputed)\n",
    "\n",
    "#fit PCA (data_scaled, # of components)\n",
    "pca=perform(data_scaled, 5)\n",
    "\n",
    "#transform PCA\n",
    "data_PCA=pca.transform(data_scaled)\n",
    "data_PCA=pd.DataFrame(data_PCA)\n",
    "\n",
    "#graph and save (x, y, z(or color), data_scaled, factor, pca, loadings (1/0), save(1/0))\n",
    "#plot_PCA(data_PCA[0], data_PCA[1], fiPh.Gravity, data_scaled, 0, pca,0, 0)\n",
    "#plt.savefig('/Users/Owner/Summer_Research/graphs/HW2_PCA0_Gravity.png')\n",
    "\n",
    "len(newfiPh.columns.tolist())\n"
   ]
  },
  {
   "cell_type": "code",
   "execution_count": 6,
   "metadata": {
    "collapsed": false
   },
   "outputs": [
    {
     "data": {
      "text/plain": [
       "<matplotlib.collections.PathCollection at 0x11986e190>"
      ]
     },
     "execution_count": 6,
     "metadata": {},
     "output_type": "execute_result"
    },
    {
     "data": {
      "image/png": "[encoded data removed]",
      "text/plain": [
       "<matplotlib.figure.Figure at 0x119acc310>"
      ]
     },
     "metadata": {},
     "output_type": "display_data"
    }
   ],
   "source": []
  },
  {
   "cell_type": "code",
   "execution_count": 4,
   "metadata": {
    "collapsed": false
   },
   "outputs": [
    {
     "data": {
      "text/plain": [
       "<matplotlib.collections.PathCollection at 0x119b127d0>"
      ]
     },
     "execution_count": 4,
     "metadata": {},
     "output_type": "execute_result"
    },
    {
     "data": {
      "image/png": "[encoded data removed]",
      "text/plain": [
       "<matplotlib.figure.Figure at 0x119a83090>"
      ]
     },
     "metadata": {},
     "output_type": "display_data"
    }
   ],
   "source": []
  },
  {
   "cell_type": "code",
   "execution_count": null,
   "metadata": {
    "collapsed": false
   },
   "outputs": [],
   "source": []
  },
  {
   "cell_type": "code",
   "execution_count": null,
   "metadata": {
    "collapsed": false
   },
   "outputs": [],
   "source": []
  },
  {
   "cell_type": "code",
   "execution_count": null,
   "metadata": {
    "collapsed": true
   },
   "outputs": [],
   "source": []
  }
 ],
 "metadata": {
  "kernelspec": {
   "display_name": "Python 2",
   "language": "python",
   "name": "python2"
  },
  "language_info": {
   "codemirror_mode": {
    "name": "ipython",
    "version": 2
   },
   "file_extension": ".py",
   "mimetype": "text/x-python",
   "name": "python",
   "nbconvert_exporter": "python",
   "pygments_lexer": "ipython2",
   "version": "2.7.11"
  }
 },
 "nbformat": 4,
 "nbformat_minor": 0
}
