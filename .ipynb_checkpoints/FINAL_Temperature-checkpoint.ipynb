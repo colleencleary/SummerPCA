{
 "cells": [
  {
   "cell_type": "code",
   "execution_count": 1,
   "metadata": {
    "collapsed": false
   },
   "outputs": [
    {
     "name": "stderr",
     "output_type": "stream",
     "text": [
      "/Users/Owner/anaconda/envs/python2/lib/python2.7/site-packages/matplotlib/font_manager.py:273: UserWarning: Matplotlib is building the font cache using fc-list. This may take a moment.\n",
      "  warnings.warn('Matplotlib is building the font cache using fc-list. This may take a moment.')\n"
     ]
    }
   ],
   "source": [
    "%matplotlib inline\n",
    "'''This code loads the Fillipazo and Photometry tables and plots data after running a principle component analysis'''\n",
    "import numpy as np\n",
    "import pandas as pd\n",
    "import matplotlib.pyplot as plt\n",
    "from PCA_adjustColumns import adjustFili, adjustPhoto\n",
    "from PCA_merge import merge\n",
    "from PCA_calc import calc_distance, calc_dm\n",
    "#from PCA_index import index\n",
    "from PCA_remName import remName\n",
    "from sklearn.preprocessing import Imputer, StandardScaler\n",
    "from PCA_scale import scale\n",
    "from PCA import perform\n",
    "from PCA_plot import plot_PCA\n",
    "from PCA_vectors import vectors\n",
    "from PCA_color import colorColumns\n",
    "from PCA_RMSE import RMSE\n",
    "from sklearn.pipeline import make_pipeline"
   ]
  },
  {
   "cell_type": "code",
   "execution_count": 2,
   "metadata": {
    "collapsed": true
   },
   "outputs": [],
   "source": [
    "#load Fili Table\n",
    "fili = pd.read_csv('Fili15 Table9.csv', delimiter=',')\n",
    "#load Photometry Table\n",
    "photo = pd.read_csv('photometry_198.csv', delimiter=',')\n",
    "\n",
    "#adjust tables \n",
    "newfili=adjustFili(fili)\n",
    "newphoto=adjustPhoto(photo)\n",
    "\n",
    "#merge tables into one table without duplicate columns\n",
    "fiPh=merge(newfili, newphoto)\n",
    "\n",
    "#calculate distance\n",
    "distance=calc_distance(fiPh)\n",
    "\n",
    "#return table with distance modulus accounted for  \n",
    "dm=calc_dm(distance)\n",
    "\n",
    "newcolumns=newphoto.columns.tolist()\n",
    "for elem in newcolumns:\n",
    "    if elem=='shortname':\n",
    "        continue\n",
    "    fiPh[elem]=fiPh[elem]-dm\n",
    "\n",
    "#remove shortname and age columns\n",
    "newfiPh=remName(fiPh)"
   ]
  },
  {
   "cell_type": "code",
   "execution_count": 3,
   "metadata": {
    "collapsed": true
   },
   "outputs": [],
   "source": [
    "#create color columns\n",
    "BDdict = {'J' : 1.24, 'H' : 1.66, 'K' : 2.19, 'Ks' : 2.16, 'W1' : 3.35, 'W2' : 4.6, 'W3' : 11.56, 'W4' : 22.09, '[3.6]' : 3.51, '[4.5]' : 4.44, '[5.8]' : 5.63, '[8]' : 7.59, 'g' : .48, 'i' : .76, 'r' : .62, 'u' : .35, 'z' : .91 }\n",
    "newfiPh=colorColumns(newfiPh, BDdict)"
   ]
  },
  {
   "cell_type": "code",
   "execution_count": 4,
   "metadata": {
    "collapsed": false
   },
   "outputs": [],
   "source": [
    "#impute TRAIN data\n",
    "imp=Imputer(strategy=\"mean\")\n",
    "imp.fit(newfiPh)\n",
    "data_imputed=imp.transform(newfiPh)\n",
    "data_imputed=pd.DataFrame(data_imputed,columns=newfiPh.columns.tolist())"
   ]
  },
  {
   "cell_type": "code",
   "execution_count": 5,
   "metadata": {
    "collapsed": false
   },
   "outputs": [],
   "source": [
    "from sklearn.cross_validation import train_test_split\n",
    "train, test=train_test_split(data_imputed, test_size = 0.2)"
   ]
  },
  {
   "cell_type": "code",
   "execution_count": 6,
   "metadata": {
    "collapsed": false
   },
   "outputs": [],
   "source": [
    "#scale TRAIN data\n",
    "scaler=StandardScaler()\n",
    "scaler.fit(train.loc[:,'H':])\n",
    "data_scaled=pd.DataFrame(scaler.transform(train.loc[:,'H':]),columns=train.loc[:,'H':].columns.tolist())\n"
   ]
  },
  {
   "cell_type": "code",
   "execution_count": 7,
   "metadata": {
    "collapsed": false
   },
   "outputs": [],
   "source": [
    "#fit PCA (data_scaled, # of components)\n",
    "pca=perform(data_scaled, .8)"
   ]
  },
  {
   "cell_type": "code",
   "execution_count": 8,
   "metadata": {
    "collapsed": false
   },
   "outputs": [],
   "source": [
    "#transform PCA\n",
    "data_PCA=pd.DataFrame(pca.transform(data_scaled))"
   ]
  },
  {
   "cell_type": "code",
   "execution_count": 9,
   "metadata": {
    "collapsed": false
   },
   "outputs": [],
   "source": [
    "loadings=pd.DataFrame(pca.components_,columns=data_scaled.columns.tolist())\n",
    "loadings_sq=loadings**2\n",
    "loadings_sq=loadings_sq.transpose()"
   ]
  },
  {
   "cell_type": "markdown",
   "metadata": {},
   "source": []
  },
  {
   "cell_type": "code",
   "execution_count": 10,
   "metadata": {
    "collapsed": false
   },
   "outputs": [],
   "source": [
    "x=data_PCA[0].reshape(-1, 1)\n",
    "y=train.Temperature.reshape(-1, 1)"
   ]
  },
  {
   "cell_type": "code",
   "execution_count": 11,
   "metadata": {
    "collapsed": false
   },
   "outputs": [
    {
     "data": {
      "text/plain": [
       "Pipeline(steps=[('polynomialfeatures', PolynomialFeatures(degree=2, include_bias=True, interaction_only=False)), ('linearregression', LinearRegression(copy_X=True, fit_intercept=True, n_jobs=1, normalize=False))])"
      ]
     },
     "execution_count": 11,
     "metadata": {},
     "output_type": "execute_result"
    }
   ],
   "source": [
    "from sklearn.preprocessing import PolynomialFeatures\n",
    "#poly = PolynomialFeatures(degree=2)\n",
    "#x_=poly.fit_transform(x)\n",
    "from sklearn.linear_model import LinearRegression\n",
    "#lr = LinearRegression()\n",
    "#lr.fit(x_,y)\n",
    "\n",
    "\n",
    "model=make_pipeline(PolynomialFeatures(2),LinearRegression())\n",
    "model.fit(x,y)"
   ]
  },
  {
   "cell_type": "code",
   "execution_count": null,
   "metadata": {
    "collapsed": false
   },
   "outputs": [],
   "source": []
  },
  {
   "cell_type": "code",
   "execution_count": 12,
   "metadata": {
    "collapsed": false
   },
   "outputs": [],
   "source": [
    "pd.set_option('display.max_rows', None)\n",
    "pd.set_option('display.max_columns', None)"
   ]
  },
  {
   "cell_type": "code",
   "execution_count": null,
   "metadata": {
    "collapsed": false
   },
   "outputs": [],
   "source": []
  },
  {
   "cell_type": "code",
   "execution_count": 13,
   "metadata": {
    "collapsed": false
   },
   "outputs": [],
   "source": [
    "#scale TEST data\n",
    "test_scaled=pd.DataFrame(scaler.transform(test.loc[:,'H':]),columns=test.loc[:,'H':].columns.tolist())\n"
   ]
  },
  {
   "cell_type": "code",
   "execution_count": 14,
   "metadata": {
    "collapsed": false
   },
   "outputs": [],
   "source": [
    "#transform PCA\n",
    "test_PCA=pd.DataFrame(pca.transform(test_scaled))"
   ]
  },
  {
   "cell_type": "code",
   "execution_count": 15,
   "metadata": {
    "collapsed": false
   },
   "outputs": [],
   "source": [
    "x2=test_PCA[0].reshape(-1, 1)\n",
    "y2=test.Temperature.reshape(-1, 1)\n",
    "#lr.transform(x2)\n",
    "\n",
    "test_rmse=RMSE(y2, model.predict(x2))"
   ]
  },
  {
   "cell_type": "code",
   "execution_count": null,
   "metadata": {
    "collapsed": false
   },
   "outputs": [],
   "source": []
  },
  {
   "cell_type": "code",
   "execution_count": 23,
   "metadata": {
    "collapsed": false
   },
   "outputs": [
    {
     "data": {
      "image/png": "[encoded data removed]",
      "text/plain": [
       "<matplotlib.figure.Figure at 0x1197f9e90>"
      ]
     },
     "metadata": {},
     "output_type": "display_data"
    }
   ],
   "source": [
    "x3=np.linspace(-10,15,100)\n",
    "xnew=x3[:,np.newaxis]\n",
    "plt.scatter(data_PCA[0], train.Temperature, label='Training Data')\n",
    "plt.scatter(test_PCA[0], test.Temperature, c='red', label='Test Data')\n",
    "plt.plot(xnew, model.predict(xnew), c='black')\n",
    "plt.xlabel('PC1')\n",
    "plt.ylabel('Temperature')\n",
    "plt.legend(loc='best')\n",
    "#plt.savefig('/Users/Owner/Summer_Research/graphs/KEEP_P1_T.png')\n",
    "plt.show()"
   ]
  },
  {
   "cell_type": "code",
   "execution_count": null,
   "metadata": {
    "collapsed": false
   },
   "outputs": [],
   "source": []
  },
  {
   "cell_type": "code",
   "execution_count": 26,
   "metadata": {
    "collapsed": false
   },
   "outputs": [
    {
     "data": {
      "image/png": "[encoded data removed]",
      "text/plain": [
       "<matplotlib.figure.Figure at 0x118cac250>"
      ]
     },
     "metadata": {},
     "output_type": "display_data"
    }
   ],
   "source": [
    "ypred=model.predict(x).reshape(-1,1)\n",
    "ydata=train.Temperature.reshape(-1,1)\n",
    "residuals=ypred-ydata        \n",
    "\n",
    "ypred2=model.predict(x2)\n",
    "ydata2=test.Temperature.reshape(-1,1)\n",
    "residuals2=ypred2-ydata2   \n",
    "\n",
    "n,bins,_ = plt.hist([residuals, residuals2], color = ['blue', 'red'], label=['Training Data','Test Data'], bins=21, stacked=True)\n",
    "\n",
    "plt.xlabel('Residuals')\n",
    "plt.ylabel('Counts')\n",
    "plt.title('Temperature')\n",
    "plt.legend(loc='best')\n",
    "#plt.savefig('/Users/Owner/Summer_Research/graphs/KEEP_Res_hist_P1_T.png')\n",
    "plt.show()"
   ]
  },
  {
   "cell_type": "code",
   "execution_count": 18,
   "metadata": {
    "collapsed": false
   },
   "outputs": [
    {
     "data": {
      "text/plain": [
       "302.39801577435441"
      ]
     },
     "execution_count": 18,
     "metadata": {},
     "output_type": "execute_result"
    }
   ],
   "source": [
    "test_rmse"
   ]
  },
  {
   "cell_type": "code",
   "execution_count": null,
   "metadata": {
    "collapsed": false
   },
   "outputs": [],
   "source": []
  },
  {
   "cell_type": "code",
   "execution_count": null,
   "metadata": {
    "collapsed": false
   },
   "outputs": [],
   "source": []
  },
  {
   "cell_type": "code",
   "execution_count": null,
   "metadata": {
    "collapsed": true
   },
   "outputs": [],
   "source": []
  }
 ],
 "metadata": {
  "kernelspec": {
   "display_name": "Python 2",
   "language": "python",
   "name": "python2"
  },
  "language_info": {
   "codemirror_mode": {
    "name": "ipython",
    "version": 2
   },
   "file_extension": ".py",
   "mimetype": "text/x-python",
   "name": "python",
   "nbconvert_exporter": "python",
   "pygments_lexer": "ipython2",
   "version": "2.7.11"
  }
 },
 "nbformat": 4,
 "nbformat_minor": 0
}
