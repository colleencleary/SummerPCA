{
 "cells": [
  {
   "cell_type": "code",
   "execution_count": 1,
   "metadata": {
    "collapsed": false
   },
   "outputs": [
    {
     "name": "stderr",
     "output_type": "stream",
     "text": [
      "/Users/Owner/anaconda/envs/python2/lib/python2.7/site-packages/matplotlib/font_manager.py:273: UserWarning: Matplotlib is building the font cache using fc-list. This may take a moment.\n",
      "  warnings.warn('Matplotlib is building the font cache using fc-list. This may take a moment.')\n"
     ]
    }
   ],
   "source": [
    "%matplotlib inline\n",
    "'''This code loads the Fillipazo and Photometry tables and plots data after running a principle component analysis'''\n",
    "import numpy as np\n",
    "import pandas as pd\n",
    "import matplotlib.pyplot as plt\n",
    "from PCA_adjustColumns import adjustFili, adjustPhoto\n",
    "from PCA_merge import merge\n",
    "from PCA_calc import calc_distance, calc_dm\n",
    "#from PCA_index import index\n",
    "from PCA_remName import remName\n",
    "from sklearn.preprocessing import Imputer, StandardScaler\n",
    "from PCA_scale import scale\n",
    "from PCA import perform\n",
    "from PCA_plot import plot_PCA\n",
    "from PCA_vectors import vectors\n",
    "from PCA_color import colorColumns\n",
    "from PCA_RMSE import RMSE\n",
    "from sklearn.pipeline import make_pipeline"
   ]
  },
  {
   "cell_type": "code",
   "execution_count": 2,
   "metadata": {
    "collapsed": true
   },
   "outputs": [],
   "source": [
    "#load Fili Table\n",
    "fili = pd.read_csv('Fili15 Table9.csv', delimiter=',')\n",
    "#load Photometry Table\n",
    "photo = pd.read_csv('photometry_198.csv', delimiter=',')\n",
    "\n",
    "#adjust tables \n",
    "newfili=adjustFili(fili)\n",
    "newphoto=adjustPhoto(photo)\n",
    "\n",
    "#merge tables into one table without duplicate columns\n",
    "fiPh=merge(newfili, newphoto)\n",
    "\n",
    "#calculate distance\n",
    "distance=calc_distance(fiPh)\n",
    "\n",
    "#return table with distance modulus accounted for  \n",
    "dm=calc_dm(distance)\n",
    "\n",
    "newcolumns=newphoto.columns.tolist()\n",
    "for elem in newcolumns:\n",
    "    if elem=='shortname':\n",
    "        continue\n",
    "    fiPh[elem]=fiPh[elem]-dm\n",
    "\n",
    "#remove shortname and age columns\n",
    "newfiPh=remName(fiPh)"
   ]
  },
  {
   "cell_type": "code",
   "execution_count": 3,
   "metadata": {
    "collapsed": true
   },
   "outputs": [],
   "source": [
    "#create color columns\n",
    "BDdict = {'J' : 1.24, 'H' : 1.66, 'K' : 2.19, 'Ks' : 2.16, 'W1' : 3.35, 'W2' : 4.6, 'W3' : 11.56, 'W4' : 22.09, '[3.6]' : 3.51, '[4.5]' : 4.44, '[5.8]' : 5.63, '[8]' : 7.59, 'g' : .48, 'i' : .76, 'r' : .62, 'u' : .35, 'z' : .91 }\n",
    "newfiPh=colorColumns(newfiPh, BDdict)"
   ]
  },
  {
   "cell_type": "code",
   "execution_count": 4,
   "metadata": {
    "collapsed": false
   },
   "outputs": [],
   "source": [
    "#impute TRAIN data\n",
    "imp=Imputer(strategy=\"mean\")\n",
    "imp.fit(newfiPh)\n",
    "data_imputed=imp.transform(newfiPh)\n",
    "data_imputed=pd.DataFrame(data_imputed,columns=newfiPh.columns.tolist())"
   ]
  },
  {
   "cell_type": "code",
   "execution_count": 5,
   "metadata": {
    "collapsed": false
   },
   "outputs": [],
   "source": [
    "from sklearn.cross_validation import train_test_split\n",
    "train, test=train_test_split(data_imputed, test_size = 0.2)"
   ]
  },
  {
   "cell_type": "code",
   "execution_count": 6,
   "metadata": {
    "collapsed": false
   },
   "outputs": [],
   "source": [
    "#scale TRAIN data\n",
    "scaler=StandardScaler()\n",
    "scaler.fit(train.loc[:,'H':])\n",
    "data_scaled=pd.DataFrame(scaler.transform(train.loc[:,'H':]),columns=train.loc[:,'H':].columns.tolist())\n"
   ]
  },
  {
   "cell_type": "code",
   "execution_count": 7,
   "metadata": {
    "collapsed": false
   },
   "outputs": [],
   "source": [
    "#fit PCA (data_scaled, # of components)\n",
    "pca=perform(data_scaled, .8)"
   ]
  },
  {
   "cell_type": "code",
   "execution_count": 8,
   "metadata": {
    "collapsed": false
   },
   "outputs": [],
   "source": [
    "#transform PCA\n",
    "data_PCA=pd.DataFrame(pca.transform(data_scaled))"
   ]
  },
  {
   "cell_type": "code",
   "execution_count": 9,
   "metadata": {
    "collapsed": false
   },
   "outputs": [],
   "source": [
    "loadings=pd.DataFrame(pca.components_,columns=data_scaled.columns.tolist())\n",
    "loadings_sq=loadings**2\n",
    "loadings_sq=loadings_sq.transpose()"
   ]
  },
  {
   "cell_type": "markdown",
   "metadata": {},
   "source": []
  },
  {
   "cell_type": "code",
   "execution_count": 19,
   "metadata": {
    "collapsed": false
   },
   "outputs": [],
   "source": [
    "x=data_PCA[1].reshape(-1, 1)\n",
    "y=train.Luminosity.reshape(-1, 1)"
   ]
  },
  {
   "cell_type": "code",
   "execution_count": 32,
   "metadata": {
    "collapsed": false
   },
   "outputs": [
    {
     "data": {
      "text/plain": [
       "Pipeline(steps=[('polynomialfeatures', PolynomialFeatures(degree=2, include_bias=True, interaction_only=False)), ('linearregression', LinearRegression(copy_X=True, fit_intercept=True, n_jobs=1, normalize=False))])"
      ]
     },
     "execution_count": 32,
     "metadata": {},
     "output_type": "execute_result"
    }
   ],
   "source": [
    "from sklearn.preprocessing import PolynomialFeatures\n",
    "#poly = PolynomialFeatures(degree=2)\n",
    "#x_=poly.fit_transform(x)\n",
    "from sklearn.linear_model import LinearRegression\n",
    "#lr = LinearRegression()\n",
    "#lr.fit(x_,y)\n",
    "\n",
    "\n",
    "model=make_pipeline(PolynomialFeatures(2),LinearRegression())\n",
    "model.fit(x,y)"
   ]
  },
  {
   "cell_type": "code",
   "execution_count": null,
   "metadata": {
    "collapsed": false
   },
   "outputs": [],
   "source": []
  },
  {
   "cell_type": "code",
   "execution_count": 33,
   "metadata": {
    "collapsed": false
   },
   "outputs": [],
   "source": [
    "pd.set_option('display.max_rows', None)\n",
    "pd.set_option('display.max_columns', None)"
   ]
  },
  {
   "cell_type": "code",
   "execution_count": null,
   "metadata": {
    "collapsed": false
   },
   "outputs": [],
   "source": []
  },
  {
   "cell_type": "code",
   "execution_count": 34,
   "metadata": {
    "collapsed": false
   },
   "outputs": [],
   "source": [
    "#scale TEST data\n",
    "test_scaled=pd.DataFrame(scaler.transform(test.loc[:,'H':]),columns=test.loc[:,'H':].columns.tolist())\n"
   ]
  },
  {
   "cell_type": "code",
   "execution_count": 35,
   "metadata": {
    "collapsed": false
   },
   "outputs": [],
   "source": [
    "#transform PCA\n",
    "test_PCA=pd.DataFrame(pca.transform(test_scaled))"
   ]
  },
  {
   "cell_type": "code",
   "execution_count": 36,
   "metadata": {
    "collapsed": false
   },
   "outputs": [],
   "source": [
    "x2=test_PCA[1].reshape(-1, 1)\n",
    "y2=test.Luminosity.reshape(-1, 1)\n",
    "#lr.transform(x2)\n",
    "\n",
    "test_rmse=RMSE(y2, model.predict(x2))"
   ]
  },
  {
   "cell_type": "code",
   "execution_count": null,
   "metadata": {
    "collapsed": false
   },
   "outputs": [],
   "source": []
  },
  {
   "cell_type": "code",
   "execution_count": 40,
   "metadata": {
    "collapsed": false
   },
   "outputs": [
    {
     "data": {
      "image/png": "[encoded data removed]",
      "text/plain": [
       "<matplotlib.figure.Figure at 0x118901450>"
      ]
     },
     "metadata": {},
     "output_type": "display_data"
    }
   ],
   "source": [
    "x3=np.linspace(-10,15,100)\n",
    "xnew=x3[:,np.newaxis]\n",
    "plt.scatter(data_PCA[1], train.Luminosity, label='Training Data')\n",
    "plt.scatter(test_PCA[1], test.Luminosity, c=test.Gravity, label='Test Data')\n",
    "plt.plot(xnew, model.predict(xnew), c='black')\n",
    "plt.xlabel('PC1')\n",
    "plt.ylabel('Luminosity')\n",
    "plt.legend(loc='best')\n",
    "plt.colorbar()\n",
    "#plt.savefig('/Users/Owner/Summer_Research/graphs/KEEP_P1_L.png')\n",
    "plt.show()"
   ]
  },
  {
   "cell_type": "code",
   "execution_count": null,
   "metadata": {
    "collapsed": false
   },
   "outputs": [],
   "source": []
  },
  {
   "cell_type": "code",
   "execution_count": 17,
   "metadata": {
    "collapsed": false
   },
   "outputs": [
    {
     "data": {
      "image/png": "[encoded data removed]",
      "text/plain": [
       "<matplotlib.figure.Figure at 0x1159d2490>"
      ]
     },
     "metadata": {},
     "output_type": "display_data"
    }
   ],
   "source": [
    "ypred=model.predict(x).reshape(-1,1)\n",
    "ydata=train.Luminosity.reshape(-1,1)\n",
    "residuals=ypred-ydata        \n",
    "\n",
    "ypred2=model.predict(x2)\n",
    "ydata2=test.Luminosity.reshape(-1,1)\n",
    "residuals2=ypred2-ydata2   \n",
    "\n",
    "n,bins,_ = plt.hist([residuals, residuals2], color = ['blue', 'red'], label=['Training Data','Test Data'], bins=21, stacked=True)\n",
    "\n",
    "plt.xlabel('Residuals')\n",
    "plt.ylabel('Counts')\n",
    "plt.title('Luminosity')\n",
    "plt.legend(loc='best')\n",
    "#plt.savefig('/Users/Owner/Summer_Research/graphs/KEEP_Res_hist_P1_L.png')\n",
    "plt.show()"
   ]
  },
  {
   "cell_type": "code",
   "execution_count": 18,
   "metadata": {
    "collapsed": false
   },
   "outputs": [
    {
     "data": {
      "text/plain": [
       "0.31947101022716712"
      ]
     },
     "execution_count": 18,
     "metadata": {},
     "output_type": "execute_result"
    }
   ],
   "source": [
    "test_rmse"
   ]
  },
  {
   "cell_type": "code",
   "execution_count": 41,
   "metadata": {
    "collapsed": false
   },
   "outputs": [
    {
     "data": {
      "text/html": [
       "<div>\n",
       "<table border=\"1\" class=\"dataframe\">\n",
       "  <thead>\n",
       "    <tr style=\"text-align: right;\">\n",
       "      <th></th>\n",
       "      <th>H</th>\n",
       "      <th>J</th>\n",
       "      <th>Ks</th>\n",
       "      <th>W1</th>\n",
       "      <th>W2</th>\n",
       "      <th>W3</th>\n",
       "      <th>W4</th>\n",
       "      <th>H-Ks</th>\n",
       "      <th>H-W1</th>\n",
       "      <th>H-W2</th>\n",
       "      <th>H-W3</th>\n",
       "      <th>H-W4</th>\n",
       "      <th>J-H</th>\n",
       "      <th>J-Ks</th>\n",
       "      <th>J-W1</th>\n",
       "      <th>J-W2</th>\n",
       "      <th>J-W3</th>\n",
       "      <th>J-W4</th>\n",
       "      <th>Ks-W1</th>\n",
       "      <th>Ks-W2</th>\n",
       "      <th>Ks-W3</th>\n",
       "      <th>Ks-W4</th>\n",
       "      <th>W1-W2</th>\n",
       "      <th>W1-W3</th>\n",
       "      <th>W1-W4</th>\n",
       "      <th>W2-W3</th>\n",
       "      <th>W2-W4</th>\n",
       "      <th>W3-W4</th>\n",
       "    </tr>\n",
       "  </thead>\n",
       "  <tbody>\n",
       "    <tr>\n",
       "      <th>0</th>\n",
       "      <td>0.237895</td>\n",
       "      <td>0.230099</td>\n",
       "      <td>0.226080</td>\n",
       "      <td>0.239343</td>\n",
       "      <td>0.229108</td>\n",
       "      <td>0.189565</td>\n",
       "      <td>0.067473</td>\n",
       "      <td>-0.062939</td>\n",
       "      <td>-0.009811</td>\n",
       "      <td>0.223078</td>\n",
       "      <td>0.239436</td>\n",
       "      <td>0.228850</td>\n",
       "      <td>-0.091502</td>\n",
       "      <td>-0.072315</td>\n",
       "      <td>-0.052895</td>\n",
       "      <td>0.153429</td>\n",
       "      <td>0.212215</td>\n",
       "      <td>0.212004</td>\n",
       "      <td>0.065839</td>\n",
       "      <td>0.212871</td>\n",
       "      <td>0.229686</td>\n",
       "      <td>0.221974</td>\n",
       "      <td>0.217308</td>\n",
       "      <td>0.228832</td>\n",
       "      <td>0.227513</td>\n",
       "      <td>0.194626</td>\n",
       "      <td>0.187572</td>\n",
       "      <td>0.139823</td>\n",
       "    </tr>\n",
       "    <tr>\n",
       "      <th>1</th>\n",
       "      <td>-0.001314</td>\n",
       "      <td>0.077896</td>\n",
       "      <td>-0.034479</td>\n",
       "      <td>-0.090444</td>\n",
       "      <td>-0.041738</td>\n",
       "      <td>-0.029275</td>\n",
       "      <td>-0.095932</td>\n",
       "      <td>0.309555</td>\n",
       "      <td>0.400517</td>\n",
       "      <td>0.100478</td>\n",
       "      <td>0.048030</td>\n",
       "      <td>0.083485</td>\n",
       "      <td>0.347095</td>\n",
       "      <td>0.364693</td>\n",
       "      <td>0.401831</td>\n",
       "      <td>0.301674</td>\n",
       "      <td>0.192587</td>\n",
       "      <td>0.170088</td>\n",
       "      <td>0.249276</td>\n",
       "      <td>-0.031740</td>\n",
       "      <td>-0.027650</td>\n",
       "      <td>0.050094</td>\n",
       "      <td>-0.175080</td>\n",
       "      <td>-0.122206</td>\n",
       "      <td>-0.023626</td>\n",
       "      <td>-0.033250</td>\n",
       "      <td>0.057176</td>\n",
       "      <td>0.090759</td>\n",
       "    </tr>\n",
       "    <tr>\n",
       "      <th>2</th>\n",
       "      <td>0.136316</td>\n",
       "      <td>0.152807</td>\n",
       "      <td>0.171850</td>\n",
       "      <td>0.102743</td>\n",
       "      <td>0.120067</td>\n",
       "      <td>0.222591</td>\n",
       "      <td>0.489467</td>\n",
       "      <td>-0.053862</td>\n",
       "      <td>0.115658</td>\n",
       "      <td>0.133638</td>\n",
       "      <td>-0.005542</td>\n",
       "      <td>-0.220214</td>\n",
       "      <td>0.039323</td>\n",
       "      <td>-0.023628</td>\n",
       "      <td>0.087850</td>\n",
       "      <td>0.151988</td>\n",
       "      <td>0.014043</td>\n",
       "      <td>-0.213901</td>\n",
       "      <td>0.179022</td>\n",
       "      <td>0.168306</td>\n",
       "      <td>0.055044</td>\n",
       "      <td>-0.173040</td>\n",
       "      <td>0.048257</td>\n",
       "      <td>-0.054669</td>\n",
       "      <td>-0.247987</td>\n",
       "      <td>-0.172297</td>\n",
       "      <td>-0.355818</td>\n",
       "      <td>-0.369387</td>\n",
       "    </tr>\n",
       "  </tbody>\n",
       "</table>\n",
       "</div>"
      ],
      "text/plain": [
       "          H         J        Ks        W1        W2        W3        W4  \\\n",
       "0  0.237895  0.230099  0.226080  0.239343  0.229108  0.189565  0.067473   \n",
       "1 -0.001314  0.077896 -0.034479 -0.090444 -0.041738 -0.029275 -0.095932   \n",
       "2  0.136316  0.152807  0.171850  0.102743  0.120067  0.222591  0.489467   \n",
       "\n",
       "       H-Ks      H-W1      H-W2      H-W3      H-W4       J-H      J-Ks  \\\n",
       "0 -0.062939 -0.009811  0.223078  0.239436  0.228850 -0.091502 -0.072315   \n",
       "1  0.309555  0.400517  0.100478  0.048030  0.083485  0.347095  0.364693   \n",
       "2 -0.053862  0.115658  0.133638 -0.005542 -0.220214  0.039323 -0.023628   \n",
       "\n",
       "       J-W1      J-W2      J-W3      J-W4     Ks-W1     Ks-W2     Ks-W3  \\\n",
       "0 -0.052895  0.153429  0.212215  0.212004  0.065839  0.212871  0.229686   \n",
       "1  0.401831  0.301674  0.192587  0.170088  0.249276 -0.031740 -0.027650   \n",
       "2  0.087850  0.151988  0.014043 -0.213901  0.179022  0.168306  0.055044   \n",
       "\n",
       "      Ks-W4     W1-W2     W1-W3     W1-W4     W2-W3     W2-W4     W3-W4  \n",
       "0  0.221974  0.217308  0.228832  0.227513  0.194626  0.187572  0.139823  \n",
       "1  0.050094 -0.175080 -0.122206 -0.023626 -0.033250  0.057176  0.090759  \n",
       "2 -0.173040  0.048257 -0.054669 -0.247987 -0.172297 -0.355818 -0.369387  "
      ]
     },
     "execution_count": 41,
     "metadata": {},
     "output_type": "execute_result"
    }
   ],
   "source": [
    "loadings"
   ]
  },
  {
   "cell_type": "code",
   "execution_count": null,
   "metadata": {
    "collapsed": false
   },
   "outputs": [],
   "source": []
  },
  {
   "cell_type": "code",
   "execution_count": null,
   "metadata": {
    "collapsed": true
   },
   "outputs": [],
   "source": []
  }
 ],
 "metadata": {
  "kernelspec": {
   "display_name": "Python 2",
   "language": "python",
   "name": "python2"
  },
  "language_info": {
   "codemirror_mode": {
    "name": "ipython",
    "version": 2
   },
   "file_extension": ".py",
   "mimetype": "text/x-python",
   "name": "python",
   "nbconvert_exporter": "python",
   "pygments_lexer": "ipython2",
   "version": "2.7.11"
  }
 },
 "nbformat": 4,
 "nbformat_minor": 0
}
